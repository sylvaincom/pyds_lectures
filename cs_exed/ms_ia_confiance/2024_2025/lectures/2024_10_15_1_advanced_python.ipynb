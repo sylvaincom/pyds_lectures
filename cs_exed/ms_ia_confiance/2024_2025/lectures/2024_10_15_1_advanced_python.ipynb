{
 "cells": [
  {
   "cell_type": "markdown",
   "id": "838f0f7e",
   "metadata": {},
   "source": [
    "# Some more advanced Python"
   ]
  },
  {
   "cell_type": "markdown",
   "id": "9c43c1a1",
   "metadata": {},
   "source": [
    "## for-loops: `enumerate`"
   ]
  },
  {
   "cell_type": "code",
   "execution_count": 2,
   "id": "e534845b",
   "metadata": {},
   "outputs": [],
   "source": [
    "name = \"John Doe\""
   ]
  },
  {
   "cell_type": "markdown",
   "id": "ef46b7b8",
   "metadata": {},
   "source": [
    "*Exercise*: print `(0, J), (1, o), (2 , h) ...`"
   ]
  },
  {
   "cell_type": "code",
   "execution_count": 3,
   "id": "5c47e19a",
   "metadata": {},
   "outputs": [
    {
     "name": "stdout",
     "output_type": "stream",
     "text": [
      "0, J\n",
      "1, o\n",
      "2, h\n",
      "3, n\n",
      "4,  \n",
      "5, D\n",
      "6, o\n",
      "7, e\n"
     ]
    }
   ],
   "source": [
    "for idx in range(len(name)):\n",
    "    print(f\"{idx}, {name[idx]}\")"
   ]
  },
  {
   "cell_type": "code",
   "execution_count": 4,
   "id": "a686c4c1",
   "metadata": {},
   "outputs": [
    {
     "name": "stdout",
     "output_type": "stream",
     "text": [
      "0, J\n",
      "1, o\n",
      "2, h\n",
      "3, n\n",
      "4,  \n",
      "5, D\n",
      "6, o\n",
      "7, e\n"
     ]
    }
   ],
   "source": [
    "idx = 0\n",
    "for char in name:\n",
    "    print(f\"{idx}, {char}\")\n",
    "    idx += 1"
   ]
  },
  {
   "cell_type": "code",
   "execution_count": 5,
   "id": "70bd43cd",
   "metadata": {},
   "outputs": [
    {
     "name": "stdout",
     "output_type": "stream",
     "text": [
      "0 J\n",
      "1 o\n",
      "2 h\n",
      "3 n\n",
      "4  \n",
      "5 D\n",
      "6 o\n",
      "7 e\n"
     ]
    }
   ],
   "source": [
    "for idx, char in enumerate(name):\n",
    "    print(idx, char)"
   ]
  },
  {
   "cell_type": "code",
   "execution_count": 6,
   "id": "c9b61f06",
   "metadata": {},
   "outputs": [],
   "source": [
    "my_list = [0, 2, 3, 12, 4, 21]"
   ]
  },
  {
   "cell_type": "markdown",
   "id": "46657947",
   "metadata": {},
   "source": [
    "*Exercise*: return the first element greater than 10 in `my_list`."
   ]
  },
  {
   "cell_type": "code",
   "execution_count": 7,
   "id": "bce061e7",
   "metadata": {},
   "outputs": [
    {
     "name": "stdout",
     "output_type": "stream",
     "text": [
      "0\n",
      "2\n",
      "3\n",
      "12\n",
      "4\n",
      "21\n",
      "12\n"
     ]
    }
   ],
   "source": [
    "found = False\n",
    "for item in my_list:\n",
    "    print(item)\n",
    "    if item >= 10 and not found:\n",
    "        res = item\n",
    "        found = True\n",
    "print(res)"
   ]
  },
  {
   "cell_type": "code",
   "execution_count": 8,
   "id": "39e16b76",
   "metadata": {},
   "outputs": [
    {
     "name": "stdout",
     "output_type": "stream",
     "text": [
      "0\n",
      "2\n",
      "3\n",
      "12\n",
      "12\n"
     ]
    }
   ],
   "source": [
    "for item in my_list:\n",
    "    print(item)\n",
    "    if item >= 10:\n",
    "        res = item\n",
    "        break\n",
    "print(res)"
   ]
  },
  {
   "cell_type": "code",
   "execution_count": 9,
   "id": "d32b89b8",
   "metadata": {},
   "outputs": [
    {
     "name": "stdout",
     "output_type": "stream",
     "text": [
      "0\n",
      "1\n",
      "2\n",
      "3\n",
      "-1\n",
      "20\n",
      "20\n"
     ]
    }
   ],
   "source": [
    "# the for-else syntax\n",
    "for item in [0, 1, 2, 3, -1, 20]:\n",
    "    print(item)\n",
    "    if item >= 10:\n",
    "        res = item\n",
    "        break\n",
    "else:\n",
    "    res = -99\n",
    "\n",
    "print(res)"
   ]
  },
  {
   "cell_type": "markdown",
   "id": "2cb14c2c",
   "metadata": {},
   "source": [
    "## `zip`"
   ]
  },
  {
   "cell_type": "code",
   "execution_count": 10,
   "id": "f8b819f9",
   "metadata": {},
   "outputs": [],
   "source": [
    "firstnames = (\"firstname 1\", \"firstname 2\", \"firstname 3\")\n",
    "lastnames = (\"lastname 1\", \"lastname 2\", \"lastname 3\")"
   ]
  },
  {
   "cell_type": "markdown",
   "id": "e9c1eac0",
   "metadata": {},
   "source": [
    "*Exercise*: print the following:\n",
    "```\n",
    "firstname 1 lastname 1\n",
    "firstname 2 lastname 2\n",
    "firstname 3 lastname 3\n",
    "```"
   ]
  },
  {
   "cell_type": "code",
   "execution_count": 11,
   "id": "95f2b196",
   "metadata": {},
   "outputs": [
    {
     "name": "stdout",
     "output_type": "stream",
     "text": [
      "firstname 1 lastname 1\n",
      "firstname 2 lastname 2\n",
      "firstname 3 lastname 3\n"
     ]
    }
   ],
   "source": [
    "for i in range(len(firstnames)):\n",
    "    print(firstnames[i], lastnames[i])"
   ]
  },
  {
   "cell_type": "code",
   "execution_count": 12,
   "id": "8bbc50bf",
   "metadata": {},
   "outputs": [
    {
     "name": "stdout",
     "output_type": "stream",
     "text": [
      "firstname 1 lastname 1\n",
      "firstname 2 lastname 2\n",
      "firstname 3 lastname 3\n"
     ]
    }
   ],
   "source": [
    "for firstname, lastname in zip(firstnames, lastnames):\n",
    "    print(firstname, lastname)"
   ]
  },
  {
   "cell_type": "markdown",
   "id": "d8e9a756",
   "metadata": {},
   "source": [
    "## Python classes "
   ]
  },
  {
   "cell_type": "markdown",
   "id": "05d4ab95",
   "metadata": {},
   "source": [
    "### Python classes are everywhere"
   ]
  },
  {
   "cell_type": "code",
   "execution_count": 13,
   "id": "a36200e8",
   "metadata": {},
   "outputs": [
    {
     "data": {
      "text/plain": [
       "2"
      ]
     },
     "execution_count": 13,
     "metadata": {},
     "output_type": "execute_result"
    }
   ],
   "source": [
    "string = \"aabcde\"\n",
    "character = \"a\"\n",
    "string.count(character)  # amounts to count(string, character)"
   ]
  },
  {
   "cell_type": "markdown",
   "id": "ed0687cd",
   "metadata": {},
   "source": [
    "### From scratch"
   ]
  },
  {
   "cell_type": "code",
   "execution_count": 14,
   "id": "84c2857f",
   "metadata": {},
   "outputs": [],
   "source": [
    "# define the template for the class\n",
    "\n",
    "\n",
    "class MyClass:  # CamelCase for classes names and ONLY for classes names\n",
    "    def __init__(self):\n",
    "        pass"
   ]
  },
  {
   "cell_type": "code",
   "execution_count": 15,
   "id": "ec75e4f5",
   "metadata": {},
   "outputs": [],
   "source": [
    "my_class = MyClass()  # snake_case for variable names"
   ]
  },
  {
   "cell_type": "code",
   "execution_count": 16,
   "id": "58673a66",
   "metadata": {},
   "outputs": [
    {
     "data": {
      "text/plain": [
       "<__main__.MyClass at 0x1067c8650>"
      ]
     },
     "execution_count": 16,
     "metadata": {},
     "output_type": "execute_result"
    }
   ],
   "source": [
    "my_class"
   ]
  },
  {
   "cell_type": "code",
   "execution_count": 17,
   "id": "054d80e8",
   "metadata": {},
   "outputs": [
    {
     "data": {
      "text/plain": [
       "['__class__',\n",
       " '__delattr__',\n",
       " '__dict__',\n",
       " '__dir__',\n",
       " '__doc__',\n",
       " '__eq__',\n",
       " '__format__',\n",
       " '__ge__',\n",
       " '__getattribute__',\n",
       " '__getstate__',\n",
       " '__gt__',\n",
       " '__hash__',\n",
       " '__init__',\n",
       " '__init_subclass__',\n",
       " '__le__',\n",
       " '__lt__',\n",
       " '__module__',\n",
       " '__ne__',\n",
       " '__new__',\n",
       " '__reduce__',\n",
       " '__reduce_ex__',\n",
       " '__repr__',\n",
       " '__setattr__',\n",
       " '__sizeof__',\n",
       " '__str__',\n",
       " '__subclasshook__',\n",
       " '__weakref__']"
      ]
     },
     "execution_count": 17,
     "metadata": {},
     "output_type": "execute_result"
    }
   ],
   "source": [
    "dir(my_class)"
   ]
  },
  {
   "cell_type": "code",
   "execution_count": 18,
   "id": "128f4747",
   "metadata": {},
   "outputs": [],
   "source": [
    "class People:\n",
    "    # init is a special method, starting and ending with two underscores\n",
    "    def __init__(self, name, age):\n",
    "        self.name = name\n",
    "        self.age = age\n",
    "        self.n_calls = 0\n",
    "\n",
    "    # I can define methods that are not special:\n",
    "    # the first argument is (for now) always self\n",
    "    def introduce(self):  # just a single argument\n",
    "        print(f\"Hello, I'm {self.name} and I'm {self.age} years old.\")\n",
    "        self.n_calls += 1\n",
    "        print(f\"This method has been called {self.n_calls} times\")"
   ]
  },
  {
   "cell_type": "code",
   "execution_count": 19,
   "id": "851fb0fb",
   "metadata": {},
   "outputs": [],
   "source": [
    "john = People(\"John\", 30)"
   ]
  },
  {
   "cell_type": "code",
   "execution_count": 20,
   "id": "25b77663",
   "metadata": {},
   "outputs": [
    {
     "name": "stdout",
     "output_type": "stream",
     "text": [
      "John 30\n"
     ]
    }
   ],
   "source": [
    "print(john.name, john.age)"
   ]
  },
  {
   "cell_type": "code",
   "execution_count": 21,
   "id": "6ed752b3",
   "metadata": {},
   "outputs": [
    {
     "name": "stdout",
     "output_type": "stream",
     "text": [
      "Hello, I'm John and I'm 30 years old.\n",
      "This method has been called 1 times\n"
     ]
    }
   ],
   "source": [
    "john.introduce()"
   ]
  },
  {
   "cell_type": "code",
   "execution_count": 22,
   "id": "f9a9e847",
   "metadata": {},
   "outputs": [
    {
     "ename": "NameError",
     "evalue": "name 'introduce' is not defined",
     "output_type": "error",
     "traceback": [
      "\u001b[0;31m---------------------------------------------------------------------------\u001b[0m",
      "\u001b[0;31mNameError\u001b[0m                                 Traceback (most recent call last)",
      "Cell \u001b[0;32mIn[22], line 1\u001b[0m\n\u001b[0;32m----> 1\u001b[0m \u001b[43mintroduce\u001b[49m(john)  \u001b[38;5;66;03m# this doesn't work\u001b[39;00m\n",
      "\u001b[0;31mNameError\u001b[0m: name 'introduce' is not defined"
     ]
    }
   ],
   "source": [
    "introduce(john)  # this doesn't work"
   ]
  },
  {
   "cell_type": "code",
   "execution_count": 23,
   "id": "fb2132e1",
   "metadata": {},
   "outputs": [
    {
     "data": {
      "text/plain": [
       "2"
      ]
     },
     "execution_count": 23,
     "metadata": {},
     "output_type": "execute_result"
    }
   ],
   "source": [
    "string = \"azoeiuzoierazeo\"\n",
    "string.count(\"a\")"
   ]
  },
  {
   "cell_type": "code",
   "execution_count": 24,
   "id": "90059a95",
   "metadata": {},
   "outputs": [
    {
     "ename": "NameError",
     "evalue": "name 'count' is not defined",
     "output_type": "error",
     "traceback": [
      "\u001b[0;31m---------------------------------------------------------------------------\u001b[0m",
      "\u001b[0;31mNameError\u001b[0m                                 Traceback (most recent call last)",
      "Cell \u001b[0;32mIn[24], line 1\u001b[0m\n\u001b[0;32m----> 1\u001b[0m \u001b[43mcount\u001b[49m(string, \u001b[38;5;124m\"\u001b[39m\u001b[38;5;124ma\u001b[39m\u001b[38;5;124m\"\u001b[39m)\n",
      "\u001b[0;31mNameError\u001b[0m: name 'count' is not defined"
     ]
    }
   ],
   "source": [
    "count(string, \"a\")"
   ]
  },
  {
   "cell_type": "code",
   "execution_count": 25,
   "id": "66b8d7a4",
   "metadata": {},
   "outputs": [
    {
     "data": {
      "text/plain": [
       "['__add__',\n",
       " '__class__',\n",
       " '__contains__',\n",
       " '__delattr__',\n",
       " '__dir__',\n",
       " '__doc__',\n",
       " '__eq__',\n",
       " '__format__',\n",
       " '__ge__',\n",
       " '__getattribute__',\n",
       " '__getitem__',\n",
       " '__getnewargs__',\n",
       " '__getstate__',\n",
       " '__gt__',\n",
       " '__hash__',\n",
       " '__init__',\n",
       " '__init_subclass__',\n",
       " '__iter__',\n",
       " '__le__',\n",
       " '__len__',\n",
       " '__lt__',\n",
       " '__mod__',\n",
       " '__mul__',\n",
       " '__ne__',\n",
       " '__new__',\n",
       " '__reduce__',\n",
       " '__reduce_ex__',\n",
       " '__repr__',\n",
       " '__rmod__',\n",
       " '__rmul__',\n",
       " '__setattr__',\n",
       " '__sizeof__',\n",
       " '__str__',\n",
       " '__subclasshook__',\n",
       " 'capitalize',\n",
       " 'casefold',\n",
       " 'center',\n",
       " 'count',\n",
       " 'encode',\n",
       " 'endswith',\n",
       " 'expandtabs',\n",
       " 'find',\n",
       " 'format',\n",
       " 'format_map',\n",
       " 'index',\n",
       " 'isalnum',\n",
       " 'isalpha',\n",
       " 'isascii',\n",
       " 'isdecimal',\n",
       " 'isdigit',\n",
       " 'isidentifier',\n",
       " 'islower',\n",
       " 'isnumeric',\n",
       " 'isprintable',\n",
       " 'isspace',\n",
       " 'istitle',\n",
       " 'isupper',\n",
       " 'join',\n",
       " 'ljust',\n",
       " 'lower',\n",
       " 'lstrip',\n",
       " 'maketrans',\n",
       " 'partition',\n",
       " 'removeprefix',\n",
       " 'removesuffix',\n",
       " 'replace',\n",
       " 'rfind',\n",
       " 'rindex',\n",
       " 'rjust',\n",
       " 'rpartition',\n",
       " 'rsplit',\n",
       " 'rstrip',\n",
       " 'split',\n",
       " 'splitlines',\n",
       " 'startswith',\n",
       " 'strip',\n",
       " 'swapcase',\n",
       " 'title',\n",
       " 'translate',\n",
       " 'upper',\n",
       " 'zfill']"
      ]
     },
     "execution_count": 25,
     "metadata": {},
     "output_type": "execute_result"
    }
   ],
   "source": [
    "dir(string)"
   ]
  },
  {
   "cell_type": "code",
   "execution_count": 26,
   "id": "4b10b665",
   "metadata": {},
   "outputs": [
    {
     "ename": "TypeError",
     "evalue": "'People' object is not callable",
     "output_type": "error",
     "traceback": [
      "\u001b[0;31m---------------------------------------------------------------------------\u001b[0m",
      "\u001b[0;31mTypeError\u001b[0m                                 Traceback (most recent call last)",
      "Cell \u001b[0;32mIn[26], line 2\u001b[0m\n\u001b[1;32m      1\u001b[0m \u001b[38;5;66;03m# what are special methods used for?\u001b[39;00m\n\u001b[0;32m----> 2\u001b[0m \u001b[43mjohn\u001b[49m\u001b[43m(\u001b[49m\u001b[43m)\u001b[49m\n",
      "\u001b[0;31mTypeError\u001b[0m: 'People' object is not callable"
     ]
    }
   ],
   "source": [
    "# what are special methods used for?\n",
    "john()"
   ]
  },
  {
   "cell_type": "code",
   "execution_count": 27,
   "id": "e4a034c0",
   "metadata": {},
   "outputs": [
    {
     "name": "stdout",
     "output_type": "stream",
     "text": [
      "Hello\n"
     ]
    }
   ],
   "source": [
    "class CallablePeople:\n",
    "    # init is a special method, starting and ending with two underscores\n",
    "    def __init__(self, name, age):\n",
    "        self.name = name\n",
    "        self.age = age\n",
    "\n",
    "    def __call__(self):\n",
    "        print(\"Hello\")\n",
    "\n",
    "\n",
    "callable_john = CallablePeople(\"John\", 30)\n",
    "callable_john()"
   ]
  },
  {
   "cell_type": "code",
   "execution_count": 28,
   "id": "c5fea7dc",
   "metadata": {},
   "outputs": [
    {
     "ename": "TypeError",
     "evalue": "'CallablePeople' object is not subscriptable",
     "output_type": "error",
     "traceback": [
      "\u001b[0;31m---------------------------------------------------------------------------\u001b[0m",
      "\u001b[0;31mTypeError\u001b[0m                                 Traceback (most recent call last)",
      "Cell \u001b[0;32mIn[28], line 1\u001b[0m\n\u001b[0;32m----> 1\u001b[0m \u001b[43mcallable_john\u001b[49m\u001b[43m[\u001b[49m\u001b[38;5;241;43m0\u001b[39;49m\u001b[43m]\u001b[49m  \u001b[38;5;66;03m# we'd need to define a \"__getitem__\"\u001b[39;00m\n",
      "\u001b[0;31mTypeError\u001b[0m: 'CallablePeople' object is not subscriptable"
     ]
    }
   ],
   "source": [
    "callable_john[0]  # we'd need to define a \"__getitem__\""
   ]
  },
  {
   "cell_type": "markdown",
   "id": "cbdda492",
   "metadata": {},
   "source": [
    "### `super()`\n",
    "\n",
    "https://realpython.com/python-super/"
   ]
  },
  {
   "cell_type": "markdown",
   "id": "0419c190",
   "metadata": {},
   "source": [
    "Usecase: two similar classes:"
   ]
  },
  {
   "cell_type": "code",
   "execution_count": 29,
   "id": "7d4989c0",
   "metadata": {},
   "outputs": [],
   "source": [
    "class Rectangle:\n",
    "    def __init__(self, length, width):\n",
    "        self.length = length\n",
    "        self.width = width\n",
    "\n",
    "    def area(self):\n",
    "        return self.length * self.width\n",
    "\n",
    "    def perimeter(self):\n",
    "        return 2 * self.length + 2 * self.width\n",
    "\n",
    "\n",
    "class Square:\n",
    "    def __init__(self, length):\n",
    "        self.length = length\n",
    "\n",
    "    def area(self):\n",
    "        return self.length * self.length\n",
    "\n",
    "    def perimeter(self):\n",
    "        return 4 * self.length"
   ]
  },
  {
   "cell_type": "code",
   "execution_count": 30,
   "id": "430e2dc4",
   "metadata": {},
   "outputs": [
    {
     "name": "stdout",
     "output_type": "stream",
     "text": [
      "16\n",
      "8\n"
     ]
    }
   ],
   "source": [
    "square = Square(4)\n",
    "print(square.area())\n",
    "\n",
    "rectangle = Rectangle(2, 4)\n",
    "print(rectangle.area())"
   ]
  },
  {
   "cell_type": "markdown",
   "id": "c49e0093",
   "metadata": {},
   "source": [
    "Use class inheritance with `super()`:"
   ]
  },
  {
   "cell_type": "code",
   "execution_count": 31,
   "id": "f207a78c",
   "metadata": {},
   "outputs": [],
   "source": [
    "class Rectangle:\n",
    "    def __init__(self, length, width):\n",
    "        self.length = length\n",
    "        self.width = width\n",
    "\n",
    "    def area(self):\n",
    "        return self.length * self.width\n",
    "\n",
    "    def perimeter(self):\n",
    "        return 2 * self.length + 2 * self.width\n",
    "\n",
    "\n",
    "# Here we declare that the Square class inherits from the Rectangle class\n",
    "\n",
    "\n",
    "class Square(Rectangle):\n",
    "    def __init__(self, length):\n",
    "        super().__init__(length, length)"
   ]
  },
  {
   "cell_type": "code",
   "execution_count": 32,
   "id": "74c76ec3",
   "metadata": {},
   "outputs": [
    {
     "data": {
      "text/plain": [
       "16"
      ]
     },
     "execution_count": 32,
     "metadata": {},
     "output_type": "execute_result"
    }
   ],
   "source": [
    "square = Square(4)\n",
    "square.area()"
   ]
  },
  {
   "cell_type": "markdown",
   "id": "327a9e57",
   "metadata": {},
   "source": [
    "Extend functionalities:"
   ]
  },
  {
   "cell_type": "code",
   "execution_count": 33,
   "id": "e1f7ff16",
   "metadata": {},
   "outputs": [],
   "source": [
    "class Square(Rectangle):\n",
    "    def __init__(self, length):\n",
    "        super().__init__(length, length)\n",
    "\n",
    "\n",
    "class Cube(Square):\n",
    "    def surface_area(self):\n",
    "        face_area = super().area()\n",
    "        return face_area * 6\n",
    "\n",
    "    def volume(self):\n",
    "        face_area = super().area()\n",
    "        return face_area * self.length"
   ]
  },
  {
   "cell_type": "code",
   "execution_count": 34,
   "id": "75baea40",
   "metadata": {},
   "outputs": [
    {
     "data": {
      "text/plain": [
       "27"
      ]
     },
     "execution_count": 34,
     "metadata": {},
     "output_type": "execute_result"
    }
   ],
   "source": [
    "cube = Cube(3)\n",
    "cube.surface_area()\n",
    "\n",
    "cube.volume()"
   ]
  },
  {
   "cell_type": "markdown",
   "id": "12c170f7",
   "metadata": {},
   "source": [
    "## Raising errors"
   ]
  },
  {
   "cell_type": "code",
   "execution_count": 35,
   "id": "dffb92ec",
   "metadata": {},
   "outputs": [],
   "source": [
    "err_msg = \"An error occured\""
   ]
  },
  {
   "cell_type": "code",
   "execution_count": 36,
   "id": "7e820585",
   "metadata": {},
   "outputs": [],
   "source": [
    "assert True, err_msg"
   ]
  },
  {
   "cell_type": "code",
   "execution_count": 37,
   "id": "88a22cbe",
   "metadata": {},
   "outputs": [
    {
     "ename": "AssertionError",
     "evalue": "An error occured",
     "output_type": "error",
     "traceback": [
      "\u001b[0;31m---------------------------------------------------------------------------\u001b[0m",
      "\u001b[0;31mAssertionError\u001b[0m                            Traceback (most recent call last)",
      "Cell \u001b[0;32mIn[37], line 1\u001b[0m\n\u001b[0;32m----> 1\u001b[0m \u001b[38;5;28;01massert\u001b[39;00m \u001b[38;5;28;01mFalse\u001b[39;00m, err_msg\n",
      "\u001b[0;31mAssertionError\u001b[0m: An error occured"
     ]
    }
   ],
   "source": [
    "assert False, err_msg"
   ]
  },
  {
   "cell_type": "code",
   "execution_count": 38,
   "id": "9b9d2b94",
   "metadata": {},
   "outputs": [],
   "source": [
    "def my_square(x):\n",
    "    err_msg = \"`x` must be an integer.\"\n",
    "    assert type(x) == int, err_msg\n",
    "    return x**2"
   ]
  },
  {
   "cell_type": "code",
   "execution_count": 39,
   "id": "e697c1cb",
   "metadata": {},
   "outputs": [
    {
     "ename": "AssertionError",
     "evalue": "`x` must be an integer.",
     "output_type": "error",
     "traceback": [
      "\u001b[0;31m---------------------------------------------------------------------------\u001b[0m",
      "\u001b[0;31mAssertionError\u001b[0m                            Traceback (most recent call last)",
      "Cell \u001b[0;32mIn[39], line 1\u001b[0m\n\u001b[0;32m----> 1\u001b[0m \u001b[43mmy_square\u001b[49m\u001b[43m(\u001b[49m\u001b[38;5;124;43m\"\u001b[39;49m\u001b[38;5;124;43mmy_string\u001b[39;49m\u001b[38;5;124;43m\"\u001b[39;49m\u001b[43m)\u001b[49m\n",
      "Cell \u001b[0;32mIn[38], line 3\u001b[0m, in \u001b[0;36mmy_square\u001b[0;34m(x)\u001b[0m\n\u001b[1;32m      1\u001b[0m \u001b[38;5;28;01mdef\u001b[39;00m \u001b[38;5;21mmy_square\u001b[39m(x):\n\u001b[1;32m      2\u001b[0m     err_msg \u001b[38;5;241m=\u001b[39m \u001b[38;5;124m\"\u001b[39m\u001b[38;5;124m`x` must be an integer.\u001b[39m\u001b[38;5;124m\"\u001b[39m\n\u001b[0;32m----> 3\u001b[0m     \u001b[38;5;28;01massert\u001b[39;00m \u001b[38;5;28mtype\u001b[39m(x) \u001b[38;5;241m==\u001b[39m \u001b[38;5;28mint\u001b[39m, err_msg\n\u001b[1;32m      4\u001b[0m     \u001b[38;5;28;01mreturn\u001b[39;00m x\u001b[38;5;241m*\u001b[39m\u001b[38;5;241m*\u001b[39m\u001b[38;5;241m2\u001b[39m\n",
      "\u001b[0;31mAssertionError\u001b[0m: `x` must be an integer."
     ]
    }
   ],
   "source": [
    "my_square(\"my_string\")"
   ]
  },
  {
   "cell_type": "code",
   "execution_count": 40,
   "id": "6b02a1b9",
   "metadata": {},
   "outputs": [
    {
     "ename": "AssertionError",
     "evalue": "`x` must be an integer.",
     "output_type": "error",
     "traceback": [
      "\u001b[0;31m---------------------------------------------------------------------------\u001b[0m",
      "\u001b[0;31mAssertionError\u001b[0m                            Traceback (most recent call last)",
      "Cell \u001b[0;32mIn[40], line 1\u001b[0m\n\u001b[0;32m----> 1\u001b[0m \u001b[43mmy_square\u001b[49m\u001b[43m(\u001b[49m\u001b[38;5;241;43m2.0\u001b[39;49m\u001b[43m)\u001b[49m\n",
      "Cell \u001b[0;32mIn[38], line 3\u001b[0m, in \u001b[0;36mmy_square\u001b[0;34m(x)\u001b[0m\n\u001b[1;32m      1\u001b[0m \u001b[38;5;28;01mdef\u001b[39;00m \u001b[38;5;21mmy_square\u001b[39m(x):\n\u001b[1;32m      2\u001b[0m     err_msg \u001b[38;5;241m=\u001b[39m \u001b[38;5;124m\"\u001b[39m\u001b[38;5;124m`x` must be an integer.\u001b[39m\u001b[38;5;124m\"\u001b[39m\n\u001b[0;32m----> 3\u001b[0m     \u001b[38;5;28;01massert\u001b[39;00m \u001b[38;5;28mtype\u001b[39m(x) \u001b[38;5;241m==\u001b[39m \u001b[38;5;28mint\u001b[39m, err_msg\n\u001b[1;32m      4\u001b[0m     \u001b[38;5;28;01mreturn\u001b[39;00m x\u001b[38;5;241m*\u001b[39m\u001b[38;5;241m*\u001b[39m\u001b[38;5;241m2\u001b[39m\n",
      "\u001b[0;31mAssertionError\u001b[0m: `x` must be an integer."
     ]
    }
   ],
   "source": [
    "my_square(2.0)"
   ]
  },
  {
   "cell_type": "code",
   "execution_count": 41,
   "id": "016f1bfb",
   "metadata": {},
   "outputs": [
    {
     "data": {
      "text/plain": [
       "4"
      ]
     },
     "execution_count": 41,
     "metadata": {},
     "output_type": "execute_result"
    }
   ],
   "source": [
    "my_square(2)"
   ]
  },
  {
   "cell_type": "markdown",
   "id": "d1cb8806",
   "metadata": {},
   "source": [
    "# `matplotlib`"
   ]
  },
  {
   "cell_type": "code",
   "execution_count": 42,
   "id": "21f2b11b",
   "metadata": {},
   "outputs": [],
   "source": [
    "pass"
   ]
  },
  {
   "cell_type": "code",
   "execution_count": null,
   "id": "ab15d611",
   "metadata": {},
   "outputs": [],
   "source": []
  }
 ],
 "metadata": {
  "kernelspec": {
   "display_name": "my_venv",
   "language": "python",
   "name": "python3"
  },
  "language_info": {
   "codemirror_mode": {
    "name": "ipython",
    "version": 3
   },
   "file_extension": ".py",
   "mimetype": "text/x-python",
   "name": "python",
   "nbconvert_exporter": "python",
   "pygments_lexer": "ipython3",
   "version": "3.12.4"
  }
 },
 "nbformat": 4,
 "nbformat_minor": 5
}
