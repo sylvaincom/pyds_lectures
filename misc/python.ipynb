{
 "cells": [
  {
   "cell_type": "markdown",
   "metadata": {
    "vscode": {
     "languageId": "plaintext"
    }
   },
   "source": [
    "# Some tricks in Python"
   ]
  },
  {
   "cell_type": "markdown",
   "metadata": {},
   "source": [
    "## Function arguments"
   ]
  },
  {
   "cell_type": "markdown",
   "metadata": {},
   "source": [
    "If you look the signature of [scikit-learn's `cross_validate`](https://scikit-learn.org/stable/modules/generated/sklearn.model_selection.cross_validate.html):"
   ]
  },
  {
   "cell_type": "code",
   "execution_count": 1,
   "metadata": {},
   "outputs": [
    {
     "name": "stdout",
     "output_type": "stream",
     "text": [
      "(estimator, X, y=None, *, groups=None, scoring=None, cv=None, n_jobs=None, verbose=0, fit_params=None, params=None, pre_dispatch='2*n_jobs', return_train_score=False, return_estimator=False, return_indices=False, error_score=nan)\n"
     ]
    }
   ],
   "source": [
    "from sklearn.model_selection import cross_validate\n",
    "from inspect import signature\n",
    "\n",
    "signature = signature(cross_validate)\n",
    "print(signature)"
   ]
  },
  {
   "cell_type": "markdown",
   "metadata": {},
   "source": [
    "You can notice the `*`. The `*` is a special syntax in Python that marks the separation between positional-only or positional-or-keyword parameters (before the `*`) and keyword-only parameters (after the `*`):\n",
    "- Parameters before the `*` (like `estimator`, `X`, `y`) can be passed either positionally or as keyword arguments.\n",
    "- Parameters after the `*` (like `groups`, `scoring`, `cv`, etc.) must be passed as keyword arguments. You cannot pass them positionally.\n"
   ]
  },
  {
   "cell_type": "markdown",
   "metadata": {},
   "source": [
    "## Public vs. Private Functions in Python\n",
    "\n",
    "In Python, there’s no strict enforcement of \"public\" or \"private\" access like in some other languages (e.g., Java or C++). Instead, Python relies on **naming conventions** to indicate the intended visibility or usage of variables, functions, or methods:\n",
    "\n",
    "1. **`func_public`** (no underscore):\n",
    "   - This is considered a **public** function by convention.\n",
    "   - It’s intended to be part of the public API of a module or class, meaning it’s safe and expected for external code to call it.\n",
    "\n",
    "2. **`_func_private`** (single leading underscore):\n",
    "   - This is considered a **private** or **protected** function by convention.\n",
    "   - The single underscore signals to other developers that this function is intended for **internal use** within the module or class and should not be accessed directly from outside. However, Python does **not enforce this**—it’s still fully callable.\n",
    "\n",
    "Key Points\n",
    "- **Both are callable**: Both `func_public()` and `_func_private()` can be called in Python. The single underscore is just a hint to programmers—it doesn’t impose any technical restriction.\n",
    "- **Convention, not enforcement**: The underscore is part of Python’s “we’re all consenting adults” philosophy. It relies on developers respecting the convention rather than the language enforcing access control.\n",
    "\n",
    "Example:"
   ]
  },
  {
   "cell_type": "code",
   "execution_count": 2,
   "metadata": {},
   "outputs": [
    {
     "name": "stdout",
     "output_type": "stream",
     "text": [
      "This is public\n",
      "This is private\n"
     ]
    }
   ],
   "source": [
    "def func_public():\n",
    "    print(\"This is public\")\n",
    "\n",
    "def _func_private():\n",
    "    print(\"This is private\")\n",
    "\n",
    "# Both work fine\n",
    "func_public()\n",
    "_func_private()"
   ]
  },
  {
   "cell_type": "markdown",
   "metadata": {},
   "source": [
    "## What is an Accessor in Python?\n",
    "\n",
    "In Python, an **accessor** typically refers to a way to **access** (retrieve) an object's attribute or data, often implemented using a **property** or a method. More broadly, it’s a mechanism to get (and sometimes set) the value of an object’s internal state in a controlled way. The term is most commonly associated with the `@property` decorator, which allows you to define a method that behaves like an attribute.\n",
    "\n",
    "Example of an Accessor with `@property`"
   ]
  },
  {
   "cell_type": "code",
   "execution_count": 3,
   "metadata": {},
   "outputs": [
    {
     "name": "stdout",
     "output_type": "stream",
     "text": [
      "Alice\n"
     ]
    }
   ],
   "source": [
    "class Person:\n",
    "    def __init__(self, name):\n",
    "        self._name = name\n",
    "\n",
    "    @property\n",
    "    def name(self):\n",
    "        return self._name\n",
    "\n",
    "person = Person(\"Alice\")\n",
    "print(person.name)"
   ]
  },
  {
   "cell_type": "markdown",
   "metadata": {},
   "source": [
    "Pandas heavily relies on attributes (and properties) as part of its API to provide a convenient, intuitive, and efficient way to access data and metadata in its core objects like `Series`, `DataFrame`, and `Index`. While Pandas also uses methods extensively, attributes play a critical role in its design, often implemented as properties (using the `@property` decorator or similar mechanisms internally) to expose object state in a clean, attribute-like way.\n",
    "\n",
    "Examples include:\n",
    "1. `DataFrame.shape`, which returns a tuple of (rows, columns) accessed as `df.shape`, not `df.shape()`.\n",
    "2. `Series.values`, which returns the underlying NumPy array as `s.values`.\n",
    "3. `DataFrame.columns`, which gives the column labels as an `Index` object via `df.columns`.\n",
    "4. `DataFrame.index`, which provides the row index as `df.index`.\n",
    "\n",
    "Pandas uses attributes for several reasons:\n",
    "1. They offer intuitive and concise syntax—`df.shape` or `df.columns` feels natural, resembling direct access to a table’s properties, unlike a method like `df.get_shape()`.\n",
    "2. They’re performant for precomputed or cached metadata like `shape` or `index`, avoiding method call overhead.\n",
    "3. Properties enable encapsulation and flexibility—`df.columns` might look simple but could include logic behind the scenes without changing the API.\n",
    "4. This aligns with NumPy’s attribute-based design (e.g., `array.shape`), making Pandas familiar to NumPy users.\n",
    "5. Attributes distinguish read-only metadata access (e.g., `shape`, `dtypes`) from methods that modify data or compute (e.g., `df.drop()`, `df.groupby()`).\n",
    "\n",
    "Many of these \"attributes\" are properties, technically methods under the hood but exposed as attributes. For example, `df.shape` might retrieve dimensions internally but is accessed without parentheses. Pandas could use methods like `df.get_shape()`, but attributes are cleaner, clarify intent, and suit data analysts’ exploratory workflows.\n",
    "\n",
    "In summary, Pandas relies on attributes (often properties) for intuitive, efficient, and consistent access to metadata and structure, enhancing readability, aligning with NumPy, and separating descriptive access from transformative operations."
   ]
  },
  {
   "cell_type": "markdown",
   "metadata": {},
   "source": []
  }
 ],
 "metadata": {
  "kernelspec": {
   "display_name": ".venv",
   "language": "python",
   "name": "python3"
  },
  "language_info": {
   "codemirror_mode": {
    "name": "ipython",
    "version": 3
   },
   "file_extension": ".py",
   "mimetype": "text/x-python",
   "name": "python",
   "nbconvert_exporter": "python",
   "pygments_lexer": "ipython3",
   "version": "3.12.4"
  }
 },
 "nbformat": 4,
 "nbformat_minor": 2
}
